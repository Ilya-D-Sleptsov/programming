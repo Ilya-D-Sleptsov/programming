{
  "nbformat": 4,
  "nbformat_minor": 0,
  "metadata": {
    "colab": {
      "provenance": [],
      "authorship_tag": "ABX9TyPxlhnv9DUIBFJTaYQ+s71D",
      "include_colab_link": true
    },
    "kernelspec": {
      "name": "python3",
      "display_name": "Python 3"
    },
    "language_info": {
      "name": "python"
    }
  },
  "cells": [
    {
      "cell_type": "markdown",
      "metadata": {
        "id": "view-in-github",
        "colab_type": "text"
      },
      "source": [
        "<a href=\"https://colab.research.google.com/github/Ilya-D-Sleptsov/programming/blob/main/%D0%9F%D1%80%D0%B0%D0%BA%D1%82%D0%B8%D0%BA%D0%B8%20%D0%BF%D0%BE%20%D0%BF%D1%80%D0%BE%D0%B3%D1%80%D0%B0%D0%BC%D0%BC%D0%B8%D1%80%D0%BE%D0%B2%D0%B0%D0%BD%D0%B8%D1%8E/%D0%9F%D1%80%D0%B0%D0%BA%D1%82%D0%B8%D0%BA%D0%B0%204/%D0%9F%D1%80%D0%B0%D0%BA%D1%82%D0%B8%D0%BA%D0%B0%204%20(%D0%9F%D1%80%D0%B0%D0%BA%D1%82%D0%B8%D0%BA%D0%B8%201-3).ipynb\" target=\"_parent\"><img src=\"https://colab.research.google.com/assets/colab-badge.svg\" alt=\"Open In Colab\"/></a>"
      ]
    },
    {
      "cell_type": "markdown",
      "source": [
        "# Слепцов Илья\n",
        "# Задания практического занятия 4 (Практики 1-3)"
      ],
      "metadata": {
        "id": "WWkv0Kcn8MlR"
      }
    },
    {
      "cell_type": "code",
      "execution_count": null,
      "metadata": {
        "colab": {
          "base_uri": "https://localhost:8080/"
        },
        "id": "B631FyN6IqYW",
        "outputId": "1f7ca76c-13f8-4fab-d90b-0ff9908428df"
      },
      "outputs": [
        {
          "output_type": "stream",
          "name": "stdout",
          "text": [
            "Анна получает: 55000 руб\n",
            "Иван получает: 61500 руб\n"
          ]
        }
      ],
      "source": [
        "#Практика 1\n",
        "class Employee:\n",
        "  \"\"\"Базовый класс для всех сотрудников\"\"\"\n",
        "  def __init__(self, name, base_salary):\n",
        "    self.name = name\n",
        "    self.base_salary = base_salary\n",
        "\n",
        "  def calculate_salary(self):\n",
        "    \"\"\"Базовый метод расчёта зарплаты\"\"\"\n",
        "    return self.base_salary\n",
        "\n",
        "\n",
        "class Manager(Employee):\n",
        "  \"\"\"Менеджер получает надбавку за каждого подчинённого\"\"\"\n",
        "  def __init__(self, name, base_salary, team_size):\n",
        "    super().__init__(name, base_salary)\n",
        "    self.team_size = team_size\n",
        "\n",
        "  def calculate_salary(self):\n",
        "    \"\"\"Зарплата = базовая + 1000 за каждого подчинённого\"\"\"\n",
        "    return self.base_salary + self.team_size * 1000\n",
        "\n",
        "\n",
        "class Developer(Employee):\n",
        "  \"\"\"Разработчик получает бонус за каждый язык программирования\"\"\"\n",
        "  def __init__(self, name, base_salary, programming_languages):\n",
        "    super().__init__(name, base_salary)\n",
        "    # programming_languages — список языков, например: [\"Python\", \"JS\"]\n",
        "    self.languages = programming_languages\n",
        "\n",
        "  def calculate_salary(self):\n",
        "    \"\"\"Зарплата = базовая + 500 за каждый язык\"\"\"\n",
        "    return self.base_salary + len(self.languages) * 500\n",
        "\n",
        "#Пример:\n",
        "manager = Manager(\"Анна\", 50000, 5)\n",
        "developer = Developer(\"Иван\", 60000, [\"Python\", \"SQL\", \"JavaScript\"])\n",
        "\n",
        "print(f\"{manager.name} получает: {manager.calculate_salary()} руб\")\n",
        "print(f\"{developer.name} получает: {developer.calculate_salary()} руб\")"
      ]
    },
    {
      "cell_type": "code",
      "source": [
        "#Практика 2\n",
        "class Vehicle:\n",
        "  \"\"\"Родительский класс для всех транспортных средств\"\"\"\n",
        "  def get_description(self):\n",
        "    \"\"\"Метод должен быть переопределён в дочерних классах\"\"\"\n",
        "    raise NotImplementedError(\"Метод get_description должен быть реализован в подклассе\")\n",
        "\n",
        "\n",
        "class Car(Vehicle):\n",
        "  def get_description(self):\n",
        "    return \"Автомобиль: 4 колеса, двигатель внутреннего сгорания, до 5 пассажиров\"\n",
        "\n",
        "\n",
        "class Bicycle(Vehicle):\n",
        "  def get_description(self):\n",
        "    return \"Велосипед: 2 колеса, приводится в движение мускульной силой, экологичен\"\n",
        "\n",
        "\n",
        "class Boat(Vehicle):\n",
        "  def get_description(self):\n",
        "    return \"Лодка: плавательное средство, используется на воде, может быть с мотором или веслами\"\n",
        "\n",
        "# Пример полиморфизма\n",
        "vehicles = [Car(), Bicycle(), Boat()]\n",
        "\n",
        "for vehicle in vehicles:\n",
        "  print(vehicle.get_description())"
      ],
      "metadata": {
        "colab": {
          "base_uri": "https://localhost:8080/"
        },
        "id": "9VPg9hh6I12G",
        "outputId": "a87820ad-1c3e-4d6b-f3e1-186e61d31f2a"
      },
      "execution_count": null,
      "outputs": [
        {
          "output_type": "stream",
          "name": "stdout",
          "text": [
            "Автомобиль: 4 колеса, двигатель внутреннего сгорания, до 5 пассажиров\n",
            "Велосипед: 2 колеса, приводится в движение мускульной силой, экологичен\n",
            "Лодка: плавательное средство, используется на воде, может быть с мотором или веслами\n"
          ]
        }
      ]
    },
    {
      "cell_type": "code",
      "source": [
        "#Практика 3\n",
        "class Product:\n",
        "  \"\"\"Товар в магазине\"\"\"\n",
        "  def __init__(self, name, price, category, stock):\n",
        "    self.name = name\n",
        "    self.price = price          # цена за единицу\n",
        "    self.category = category    # например \"Электроника\" или \"Книги\"\n",
        "    self.stock = stock          # количество на складе\n",
        "\n",
        "  def is_available(self, quantity):\n",
        "    \"\"\"Проверяет, достаточно ли товара на складе\"\"\"\n",
        "    return self.stock >= quantity\n",
        "\n",
        "\n",
        "class ShoppingCart:\n",
        "  \"\"\"Корзина покупателя\"\"\"\n",
        "  def __init__(self):\n",
        "    self.items = {}  # словарь: {product: quantity}\n",
        "\n",
        "  def add_item(self, product, quantity):\n",
        "    \"\"\"Добавить товар в корзину\"\"\"\n",
        "    if not product.is_available(quantity):\n",
        "        print(f\"Недостаточно товара '{product.name}' на складе\")\n",
        "        return\n",
        "    if product in self.items:\n",
        "        self.items[product] += quantity\n",
        "    else:\n",
        "        self.items[product] = quantity\n",
        "    #Уменьшаем остаток на складе (имитация резервирования)\n",
        "    product.stock -= quantity\n",
        "\n",
        "  def remove_item(self, product):\n",
        "    \"\"\"Удалить товар из корзины полностью\"\"\"\n",
        "    if product in self.items:\n",
        "      #Возвращаем товар на склад\n",
        "      product.stock += self.items[product]\n",
        "      del self.items[product]\n",
        "\n",
        "  def update_quantity(self, product, new_quantity):\n",
        "    \"\"\"Изменить количество товара в корзине\"\"\"\n",
        "    if product not in self.items:\n",
        "      print(\"Товар не найден в корзине\")\n",
        "      return\n",
        "    current = self.items[product]\n",
        "    diff = new_quantity - current\n",
        "    if diff > 0:\n",
        "      #Нужно добавить\n",
        "      if not product.is_available(diff):\n",
        "        print(f\"Недостаточно товара '{product.name}' для увеличения количества\")\n",
        "        return\n",
        "      product.stock -= diff\n",
        "    elif diff < 0:\n",
        "      #Возвращаем часть на склад\n",
        "      product.stock += abs(diff)\n",
        "    self.items[product] = new_quantity\n",
        "\n",
        "  def get_total(self):\n",
        "    \"\"\"Общая стоимость товаров в корзине\"\"\"\n",
        "    return sum(product.price * qty for product, qty in self.items.items())\n",
        "\n",
        "\n",
        "class Order:\n",
        "  \"\"\"Заказ.\"\"\"\n",
        "  TAX_RATE = 0.10      # 10% налог\n",
        "  DISCOUNT_THRESHOLD = 10000  # скидка при сумме от 10 000\n",
        "  DISCOUNT_RATE = 0.05        # 5% скидка\n",
        "\n",
        "  def __init__(self, customer, cart):\n",
        "    self.customer = customer\n",
        "    self.products = cart.items.copy()  # фиксируем состав заказа\n",
        "    self.total_before_discount = sum(p.price * q for p, q in self.products.items())\n",
        "    self.discount = 0\n",
        "    self.tax = 0\n",
        "    self.final_total = 0\n",
        "    self._calculate_total()\n",
        "\n",
        "  def _calculate_total(self):\n",
        "    \"\"\"Рассчитывает итоговую сумму с учётом скидки и налога\"\"\"\n",
        "    total = self.total_before_discount\n",
        "    if total >= self.DISCOUNT_THRESHOLD:\n",
        "      self.discount = total * self.DISCOUNT_RATE\n",
        "      total -= self.discount\n",
        "    self.tax = total * self.TAX_RATE\n",
        "    self.final_total = total + self.tax\n",
        "\n",
        "  def __str__(self):\n",
        "    lines = [\"Заказ:\"]\n",
        "    for product, qty in self.products.items():\n",
        "      lines.append(f\"  {product.name} x{qty} — {product.price * qty} руб\")\n",
        "    lines.append(f\"Сумма до скидки: {self.total_before_discount:.2f} руб\")\n",
        "    if self.discount > 0:\n",
        "      lines.append(f\"Скидка (5%): {self.discount:.2f} руб\")\n",
        "    lines.append(f\"Налог (10%): {self.tax:.2f} руб\")\n",
        "    lines.append(f\"Итого: {self.final_total:.2f} руб\")\n",
        "    return \"\\n\".join(lines)\n",
        "\n",
        "\n",
        "class Customer:\n",
        "  \"\"\"Покупатель\"\"\"\n",
        "  def __init__(self, name, email):\n",
        "    self.name = name\n",
        "    self.email = email\n",
        "    self.orders = []  # история заказов\n",
        "\n",
        "  def place_order(self, cart):\n",
        "    \"\"\"Оформить заказ на основе корзины\"\"\"\n",
        "    if not cart.items:\n",
        "      print(\"Корзина пуста\")\n",
        "      return None\n",
        "    order = Order(self, cart)\n",
        "    self.orders.append(order)\n",
        "    # Очищаем корзину после оформления\n",
        "    cart.items.clear()\n",
        "    return order\n",
        "\n",
        "\n",
        "#Пример\n",
        "if __name__ == \"__main__\":\n",
        "  # Создаём товары\n",
        "  laptop = Product(\"Ноутбук\", 45000, \"Электроника\", 10)\n",
        "  book = Product(\"Python для начинающих\", 800, \"Книги\", 50)\n",
        "\n",
        "  # Создаём покупателя и корзину\n",
        "  customer = Customer(\"Мария\", \"maria@pochta.com\")\n",
        "  cart = ShoppingCart()\n",
        "\n",
        "  # Добавляем товары\n",
        "  cart.add_item(laptop, 1)\n",
        "  cart.add_item(book, 3)\n",
        "\n",
        "  print(\"Текущая сумма в корзине:\", cart.get_total(), \"руб.\")\n",
        "\n",
        "  # Оформляем заказ\n",
        "  order = customer.place_order(cart)\n",
        "  if order:\n",
        "    print(\"\\n\" + str(order))\n",
        "\n",
        "  # Проверяем историю\n",
        "  print(f\"\\nУ {customer.name} оформлено заказов: {len(customer.orders)}\")"
      ],
      "metadata": {
        "colab": {
          "base_uri": "https://localhost:8080/"
        },
        "id": "3LO6nQu_I4zW",
        "outputId": "cb91e1f1-395e-4642-a645-746ab829f1b2"
      },
      "execution_count": null,
      "outputs": [
        {
          "output_type": "stream",
          "name": "stdout",
          "text": [
            "Текущая сумма в корзине: 47400 руб.\n",
            "\n",
            "Заказ:\n",
            "  Ноутбук x1 — 45000 руб\n",
            "  Python для начинающих x3 — 2400 руб\n",
            "Сумма до скидки: 47400.00 руб\n",
            "Скидка (5%): 2370.00 руб\n",
            "Налог (10%): 4503.00 руб\n",
            "Итого: 49533.00 руб\n",
            "\n",
            "У Мария оформлено заказов: 1\n"
          ]
        }
      ]
    }
  ]
}