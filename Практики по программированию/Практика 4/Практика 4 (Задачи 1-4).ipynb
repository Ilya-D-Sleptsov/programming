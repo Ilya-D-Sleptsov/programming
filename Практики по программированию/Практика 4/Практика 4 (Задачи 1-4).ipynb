{
  "nbformat": 4,
  "nbformat_minor": 0,
  "metadata": {
    "colab": {
      "provenance": [],
      "authorship_tag": "ABX9TyMH7lvGPS5SMeY1w7en+Wqm",
      "include_colab_link": true
    },
    "kernelspec": {
      "name": "python3",
      "display_name": "Python 3"
    },
    "language_info": {
      "name": "python"
    }
  },
  "cells": [
    {
      "cell_type": "markdown",
      "metadata": {
        "id": "view-in-github",
        "colab_type": "text"
      },
      "source": [
        "<a href=\"https://colab.research.google.com/github/Ilya-D-Sleptsov/programming/blob/main/%D0%9F%D1%80%D0%B0%D0%BA%D1%82%D0%B8%D0%BA%D0%B8%20%D0%BF%D0%BE%20%D0%BF%D1%80%D0%BE%D0%B3%D1%80%D0%B0%D0%BC%D0%BC%D0%B8%D1%80%D0%BE%D0%B2%D0%B0%D0%BD%D0%B8%D1%8E/%D0%9F%D1%80%D0%B0%D0%BA%D1%82%D0%B8%D0%BA%D0%B0%204/%D0%9F%D1%80%D0%B0%D0%BA%D1%82%D0%B8%D0%BA%D0%B0%204%20(%D0%97%D0%B0%D0%B4%D0%B0%D1%87%D0%B8%201-4).ipynb\" target=\"_parent\"><img src=\"https://colab.research.google.com/assets/colab-badge.svg\" alt=\"Open In Colab\"/></a>"
      ]
    },
    {
      "cell_type": "markdown",
      "source": [
        "# Слепцов Илья\n",
        "# Задания практического занятия 4 (Задачи 1-4)"
      ],
      "metadata": {
        "id": "WWkv0Kcn8MlR"
      }
    },
    {
      "cell_type": "code",
      "execution_count": null,
      "metadata": {
        "colab": {
          "base_uri": "https://localhost:8080/"
        },
        "id": "7ie8B4ahH7hT",
        "outputId": "3a000b09-a2a1-4c9c-e91d-04fbe2410e17"
      },
      "outputs": [
        {
          "output_type": "stream",
          "name": "stdout",
          "text": [
            "1. Информация о книге через print_info():\n",
            "1984, Джордж Оруэлл, 1949\n",
            "\n",
            "2. Строка (__str__): 1984, Джордж Оруэлл, 1949\n",
            "\n",
            "3. Возраст книги: 76 лет\n",
            "\n",
            "4. Книга из строки:\n",
            "Мастер и Маргарита, Михаил Булгаков, 1967\n",
            "\n",
            "5. Сравнение book1 и book3: True\n",
            "\n",
            "6. Электронная книга:\n",
            "Преступление и наказание, Ф. М. Достоевский, 1866 (EPUB)\n",
            "Возраст электронной книги: 159 лет\n"
          ]
        }
      ],
      "source": [
        "from abc import ABC, abstractmethod\n",
        "\n",
        "class Printable(ABC):\n",
        "  \"\"\"\n",
        "  Printable задаёт общий интерфейс для всех печатаемых объектов\n",
        "  Любой класс, который наследует от него, имеет метод print_info()\n",
        "  \"\"\"\n",
        "  @abstractmethod\n",
        "  def print_info(self):\n",
        "    pass\n",
        "\n",
        "\n",
        "class Book(Printable):\n",
        "  \"\"\"\n",
        "  Класс Book просто описывает книгу:\n",
        "    title — название\n",
        "    author — автор\n",
        "    year — год издания\n",
        "  \"\"\"\n",
        "  def __init__(self, title, author, year):\n",
        "    self.title = title\n",
        "    self.author = author\n",
        "    self.year = year\n",
        "\n",
        "  def info(self):\n",
        "    \"\"\"Возвращает строку с основной информацией о книге\"\"\"\n",
        "    return f\"{self.title}, {self.author}, {self.year}\"\n",
        "\n",
        "\n",
        "  def __str__(self):\n",
        "    \"\"\"Возвращает информацию о книге в строке\"\"\"\n",
        "    return self.info()\n",
        "\n",
        "  def __eq__(self, other):\n",
        "    \"\"\"\n",
        "    Сравнивает две книги на равенство\n",
        "    А именно - совпадают ли название, автор и год\n",
        "    \"\"\"\n",
        "    if isinstance(other, Book):\n",
        "      return (self.title == other.title and\n",
        "              self.author == other.author and\n",
        "              self.year == other.year)\n",
        "    return False\n",
        "\n",
        "  @property\n",
        "  def age(self):\n",
        "    return 2025 - self.year\n",
        "\n",
        "  @classmethod\n",
        "  def from_string(cls, book_str):\n",
        "    \"\"\"\n",
        "    Функция создаёт объект Book из строки \"Название; автор; год\"\n",
        "    Например Book.from_string(\"1984;Джордж Оруэлл;1949\")\n",
        "    \"\"\"\n",
        "    parts = book_str.split(';')\n",
        "    if len(parts) != 3:\n",
        "      raise ValueError(\"Строка должна содержать три значения: название, автор и год\")\n",
        "    title, author, year_str = parts\n",
        "    year = int(year_str)\n",
        "    return cls(title, author, year)\n",
        "\n",
        "  def print_info(self):\n",
        "    print(self.info())\n",
        "\n",
        "\n",
        "class Ebook(Book):\n",
        "  \"\"\"\n",
        "  Ebook — электронная книга, которая наследуется от Book\n",
        "  Добавляет атрибут format - формат файла\n",
        "  \"\"\"\n",
        "  def __init__(self, title, author, year, file_format):\n",
        "    super().__init__(title, author, year)\n",
        "    self.format = file_format\n",
        "\n",
        "  def info(self):\n",
        "    \"\"\"Расширенная информация с указанием формата.\"\"\"\n",
        "    return f\"{self.title}, {self.author}, {self.year} ({self.format})\"\n",
        "\n",
        "  def print_info(self):\n",
        "    \"\"\" print_info для Ebook.\"\"\"\n",
        "    print(self.info())\n",
        "\n",
        "\n",
        "#Проверка работы кода:\n",
        "\n",
        "#Создание обычной книги\n",
        "book1 = Book(\"1984\", \"Джордж Оруэлл\", 1949)\n",
        "print(\"1. Информация о книге через print_info():\")\n",
        "book1.print_info()\n",
        "\n",
        "print(\"\\n\"+\"2. Строка (__str__):\", book1)\n",
        "\n",
        "print(\"\\n\"+\"3. Возраст книги:\", book1.age, \"лет\")\n",
        "\n",
        "#Создание книги из строки\n",
        "book2 = Book.from_string(\"Мастер и Маргарита;Михаил Булгаков;1967\")\n",
        "print(\"\\n\"+\"4. Книга из строки:\")\n",
        "book2.print_info()\n",
        "\n",
        "#Сравнение книг\n",
        "book3 = Book(\"1984\", \"Джордж Оруэлл\", 1949)\n",
        "print(\"\\n\"+\"5. Сравнение book1 и book3:\", book1 == book3)  # Должно быть True\n",
        "\n",
        "#Создание электронной книги\n",
        "ebook = Ebook(\"Преступление и наказание\", \"Ф. М. Достоевский\", 1866, \"EPUB\")\n",
        "print(\"\\n\"+\"6. Электронная книга:\")\n",
        "ebook.print_info()\n",
        "print(\"Возраст электронной книги:\", ebook.age, \"лет\")"
      ]
    }
  ]
}