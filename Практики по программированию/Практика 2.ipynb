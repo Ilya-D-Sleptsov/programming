{
  "nbformat": 4,
  "nbformat_minor": 0,
  "metadata": {
    "colab": {
      "provenance": [],
      "authorship_tag": "ABX9TyP5v9j8VBA0AVQiLG2J6Tsd",
      "include_colab_link": true
    },
    "kernelspec": {
      "name": "python3",
      "display_name": "Python 3"
    },
    "language_info": {
      "name": "python"
    }
  },
  "cells": [
    {
      "cell_type": "markdown",
      "metadata": {
        "id": "view-in-github",
        "colab_type": "text"
      },
      "source": [
        "<a href=\"https://colab.research.google.com/github/Ilya-D-Sleptsov/programming/blob/main/%D0%9F%D1%80%D0%B0%D0%BA%D1%82%D0%B8%D0%BA%D0%B8%20%D0%BF%D0%BE%20%D0%BF%D1%80%D0%BE%D0%B3%D1%80%D0%B0%D0%BC%D0%BC%D0%B8%D1%80%D0%BE%D0%B2%D0%B0%D0%BD%D0%B8%D1%8E/%D0%9F%D1%80%D0%B0%D0%BA%D1%82%D0%B8%D0%BA%D0%B0%202.ipynb\" target=\"_parent\"><img src=\"https://colab.research.google.com/assets/colab-badge.svg\" alt=\"Open In Colab\"/></a>"
      ]
    },
    {
      "cell_type": "code",
      "execution_count": 1,
      "metadata": {
        "colab": {
          "base_uri": "https://localhost:8080/"
        },
        "id": "l2Bs_RdR9SjI",
        "outputId": "64bf0d0f-403d-46ac-fa6a-6472db949b73"
      },
      "outputs": [
        {
          "output_type": "stream",
          "name": "stdout",
          "text": [
            "Привет, мир! Это я\n",
            "23\n",
            "Ножагр, кжо! Ьрм э\n"
          ]
        }
      ],
      "source": [
        "# Шифр Цезаря\n",
        "eng_low_letters = 'abcdefghijklmnopqrstuvwxyz'\n",
        "eng_high_letters = eng_low_letters.upper()\n",
        "rus_low_letters = 'абвгдеёжзийклмнопрстуфхцчшщъьыэюя'\n",
        "rus_high_letters = rus_low_letters.upper()\n",
        "numbers = '1234567890'\n",
        "\n",
        "def shifr(n, shift):\n",
        "    \"\"\"\n",
        "     Эта функция проверяет заглавная буква или строчная,\n",
        "    и заменяет её на другую из соответствующего списка eng_high_letters\n",
        "    или eng_low_letters если буква английская, и rus_high_letters или\n",
        "    rus_low_letters если она из русского алфавита,предварительно сдвигаясь\n",
        "    на указанную пользователем величину shift в этих алфавитах влево,\n",
        "    т.к. сделать вправо сложнее. Так же функция заменяет цифры.\n",
        "    \"\"\"\n",
        "    ans=list(n)\n",
        "    for i in range(len(n)):\n",
        "        if n[i] in eng_low_letters:\n",
        "            ans[i] = eng_low_letters[eng_low_letters.index(n[i])-shift]\n",
        "        elif n[i] in eng_high_letters:\n",
        "            ans[i] = eng_high_letters[eng_high_letters.index(n[i])-shift]\n",
        "        elif n[i] in rus_low_letters:\n",
        "            ans[i] = rus_low_letters[rus_low_letters.index(n[i])-shift]\n",
        "        elif n[i] in rus_high_letters:\n",
        "            ans[i] = rus_high_letters[rus_high_letters.index(n[i])-shift]\n",
        "        elif n[i] in numbers:\n",
        "            ans[i] = numbers[numbers.index(n[i])-shift]\n",
        "#        print(ans)\n",
        "    answer = ''.join(ans)\n",
        "    return answer\n",
        "\n",
        "text=str(input())\n",
        "shift=abs(int(input()))\n",
        "print(shifr(text, 2))"
      ]
    },
    {
      "cell_type": "code",
      "source": [
        "# Олимпиада\n",
        "def check_winners(scores, student_score):\n",
        "  \"\"\"\n",
        "  Эта функция принимает стоку из чисел, введённых через пробел,\n",
        "  запятую, или запятую с пробелом, после чего преобразовывает\n",
        "  эту строку в список и проходится по нему в цикле for, вытаскивая\n",
        "  из списка list_scores отдельные числа, которые после записывает\n",
        "  в массив arr_scores. После этого arr_score сортируется по убыванию,\n",
        "  и третье с начала число в получившемся списке сравнивается с\n",
        "  student_score, из чего делается вывод - попал ли Стас в тройку\n",
        "  лучших, или нет.\n",
        "  \"\"\"\n",
        "  list_scores = list(scores)\n",
        "  arr_scores = []\n",
        "  a = ''\n",
        "  for k in list_scores:\n",
        "#    print(k, a, arr_scores)\n",
        "    if k != ',' and k != ' ':\n",
        "      a += k\n",
        "    elif a != '':\n",
        "      arr_scores.append(int(a))\n",
        "      a = ''\n",
        "  if a != '':\n",
        "    arr_scores.append(int(a))\n",
        "  arr_scores.sort(reverse = 'True')\n",
        "\n",
        "  if student_score>arr_scores[2]:\n",
        "    return 'Вы в тройке победителей!'\n",
        "  else:\n",
        "    return 'Вы не попали в тройку победителей.'\n",
        "\n",
        "scores=input()\n",
        "student_score=int(input())\n",
        "\n",
        "print(check_winners(scores, student_score))"
      ],
      "metadata": {
        "colab": {
          "base_uri": "https://localhost:8080/"
        },
        "id": "vJjJ21jA9cLj",
        "outputId": "6f4fd6f3-c64a-46d0-9619-a1582e2915d0"
      },
      "execution_count": 2,
      "outputs": [
        {
          "output_type": "stream",
          "name": "stdout",
          "text": [
            "2 45 3 23 1\n",
            "12\n",
            "Вы в тройке победителей!\n"
          ]
        }
      ]
    },
    {
      "cell_type": "code",
      "source": [
        "# Пирожные и коробки\n",
        "\"\"\"\n",
        "Я не уверен, что правильно понял смысл задачи, потому что\n",
        "на первый взгляд она не особо то и нужна, ведь и так\n",
        "несложно, посмотрев на число, сказать, делится ли оно на\n",
        "5 или на 3. Разве что будут обрабатываться большие числа,\n",
        "а не те, что в примере.\n",
        "\"\"\"\n",
        "f = False\n",
        "print('Введите положительное целое число больше единицы')\n",
        "while f == False:\n",
        "  \"\"\"\n",
        "  while я сделал для того, чтобы если пользователь введёт\n",
        "  отрицательное число, он мог ввести число ещё раз без\n",
        "  необходимости перезапускать код. К сожалению такой же\n",
        "  фичи с числами типа float у меня сделать не получилось,\n",
        "  поэтому если ввести нецелое число, код просто выдаст ошибку(\n",
        "  \"\"\"\n",
        "  def print_pack_report(n):\n",
        "    if k % 3 == 0 and k % 5 == 0:\n",
        "      a = str(k) + ' - расфасуем по 3 или по 5'\n",
        "      return a\n",
        "    elif k % 3 == 0 and k % 5 != 0:\n",
        "      a = a = str(k) + ' - расфасуем по 3'\n",
        "      return a\n",
        "    elif k % 3 != 0 and k % 5 == 0:\n",
        "      a = str(k) + ' - расфасуем по 5'\n",
        "      return a\n",
        "    else:\n",
        "      a = str(k) + ' - не заказываем!'\n",
        "      return a\n",
        "\n",
        "  n = int(input())\n",
        "\n",
        "  if n > 1 and n % 1 == 0:\n",
        "    f = True\n",
        "    for k in range(n, 0, -1):\n",
        "      \"\"\"\n",
        "      я отправляю в функцию print_pack_report каждое число от n до 1,\n",
        "      и получаю для каждого свой return. Я попробовал сделать цикл for\n",
        "      внутри самой функции, но такой вариант работал с огрехами.\n",
        "      \"\"\"\n",
        "      print(print_pack_report(n))\n",
        "  else:\n",
        "    print('! Введите положительное целое число больше единицы')"
      ],
      "metadata": {
        "colab": {
          "base_uri": "https://localhost:8080/"
        },
        "id": "MB-_xPgp9edJ",
        "outputId": "4c04c81a-84a4-4f5c-f0c5-6b6534148724"
      },
      "execution_count": 4,
      "outputs": [
        {
          "output_type": "stream",
          "name": "stdout",
          "text": [
            "Введите положительное целое число больше единицы\n",
            "31\n",
            "31 - не заказываем!\n",
            "30 - расфасуем по 3 или по 5\n",
            "29 - не заказываем!\n",
            "28 - не заказываем!\n",
            "27 - расфасуем по 3\n",
            "26 - не заказываем!\n",
            "25 - расфасуем по 5\n",
            "24 - расфасуем по 3\n",
            "23 - не заказываем!\n",
            "22 - не заказываем!\n",
            "21 - расфасуем по 3\n",
            "20 - расфасуем по 5\n",
            "19 - не заказываем!\n",
            "18 - расфасуем по 3\n",
            "17 - не заказываем!\n",
            "16 - не заказываем!\n",
            "15 - расфасуем по 3 или по 5\n",
            "14 - не заказываем!\n",
            "13 - не заказываем!\n",
            "12 - расфасуем по 3\n",
            "11 - не заказываем!\n",
            "10 - расфасуем по 5\n",
            "9 - расфасуем по 3\n",
            "8 - не заказываем!\n",
            "7 - не заказываем!\n",
            "6 - расфасуем по 3\n",
            "5 - расфасуем по 5\n",
            "4 - не заказываем!\n",
            "3 - расфасуем по 3\n",
            "2 - не заказываем!\n",
            "1 - не заказываем!\n"
          ]
        }
      ]
    },
    {
      "cell_type": "code",
      "source": [
        "#Сложные пароли\n",
        "import random\n",
        "\n",
        "def generate_password():\n",
        "    \"\"\"\n",
        "    Функция спрашивает у пользователя настройки пароля:\n",
        "    - длину\n",
        "    - нужны ли строчные буквы, заглавные, цифры, спецсимволы\n",
        "    Ну и генерирует пароль по этим правилам\n",
        "    \"\"\"\n",
        "    print(\"Добро пожаловать в генератор надёжных паролей\")\n",
        "\n",
        "    # Спрашиваем длину пароля\n",
        "    length = int(input(\"Введите желаемую длину пароля: \"))\n",
        "\n",
        "    # Спрашиваем, какие символы использовать\n",
        "    use_lowercase = input(\"Использовать строчные буквы (a-z)? (да/нет): \").lower() in ['да', 'yes']\n",
        "    use_uppercase = input(\"Использовать заглавные буквы (A-Z)? (да/нет): \").lower() in ['да', 'yes']\n",
        "    use_digits = input(\"Использовать цифры (0-9)? (да/нет): \").lower() in ['да', 'yes']\n",
        "    use_symbols = input(\"Использовать спецсимволы (!@#$%^&*)? (да/нет): \").lower() in ['да', 'yes']\n",
        "\n",
        "    # Собираем доступные символы\n",
        "    all_chars = \"\"\n",
        "    if use_lowercase:\n",
        "        all_chars += \"abcdefghijklmnopqrstuvwxyz\"\n",
        "    if use_uppercase:\n",
        "        all_chars += \"ABCDEFGHIJKLMNOPQRSTUVWXYZ\"\n",
        "    if use_digits:\n",
        "        all_chars += \"0123456789\"\n",
        "    if use_symbols:\n",
        "        all_chars += \"!@#$%^&*\"\n",
        "\n",
        "    # Проверка: выбраны ли вообще символы?\n",
        "    if not all_chars:\n",
        "        print(\"Ошибка: вы не выбрали ни одного типа символов\")\n",
        "        return None\n",
        "\n",
        "    # Генерируем пароль\n",
        "    password = \"\"\n",
        "    for _ in range(length):\n",
        "        password += random.choice(all_chars)\n",
        "\n",
        "    return password\n",
        "\n",
        "password = generate_password()\n",
        "print(\"\\nВаш новый пароль:\", password)"
      ],
      "metadata": {
        "colab": {
          "base_uri": "https://localhost:8080/"
        },
        "id": "BlP6aKFI9pzf",
        "outputId": "a933a1ec-2bd5-430a-95c7-0e735557106b"
      },
      "execution_count": 6,
      "outputs": [
        {
          "output_type": "stream",
          "name": "stdout",
          "text": [
            "Добро пожаловать в генератор надёжных паролей\n",
            "Введите желаемую длину пароля: 23\n",
            "Использовать строчные буквы (a-z)? (да/нет): да\n",
            "Использовать заглавные буквы (A-Z)? (да/нет): да\n",
            "Использовать цифры (0-9)? (да/нет): да\n",
            "Использовать спецсимволы (!@#$%^&*)? (да/нет): да\n",
            "\n",
            "Ваш новый пароль: $12^*tZPe!g3RJ7Cb#d5TMK\n"
          ]
        }
      ]
    },
    {
      "cell_type": "code",
      "source": [
        "#Римский конвертер\n",
        "def arabic_to_roman(num):\n",
        "    \"\"\"\n",
        "    Преобразует целое число от 1 до 3999 в римскую запись\n",
        "    Используется список пар значений и их римских аналогов\n",
        "    \"\"\"\n",
        "    if num < 1 or num > 3999:\n",
        "        return \"Число должно быть от 1 до 3999. Запустите программу снова\"\n",
        "\n",
        "    # Список значений и соответствующих римских символов (в порядке убывания)\n",
        "    values = [1000, 900, 500, 400, 100, 90, 50, 40, 10, 9, 5, 4, 1]\n",
        "    symbols = [\"M\", \"CM\", \"D\", \"CD\", \"C\", \"XC\", \"L\", \"XL\", \"X\", \"IX\", \"V\", \"IV\", \"I\"]\n",
        "\n",
        "    roman = \"\"\n",
        "    for i in range(len(values)):\n",
        "        # Сколько раз текущее значение помещается в число?\n",
        "        count = num // values[i]\n",
        "        if count:\n",
        "            roman += symbols[i] * count # добавляем символ столько раз\n",
        "            num -= values[i] * count # уменьшаем число\n",
        "    return roman\n",
        "\n",
        "\n",
        "def roman_to_arabic(roman):\n",
        "    \"\"\"\n",
        "    Преобразует римскую запись в арабское число\n",
        "    Проходим по строке и сравниваем текущий символ со следующим\n",
        "    Если текущий меньше следующего — вычитаем, иначе — прибавляем\n",
        "    \"\"\"\n",
        "    roman = roman.upper() # на случай, если ввели строчные буквы\n",
        "    values = {'I': 1, 'V': 5, 'X': 10, 'L': 50,'C': 100, 'D': 500, 'M': 1000}\n",
        "\n",
        "    total = 0\n",
        "    prev_value = 0\n",
        "\n",
        "    # Идём справа налево — так проще обрабатывать вычитание (IV, IX и т.д.)\n",
        "    for char in reversed(roman):\n",
        "        if char not in values:\n",
        "            return \"Некорректный римский символ: \" + char + \". Запустите программу снова\"\n",
        "        value = values[char]\n",
        "        if value < prev_value:\n",
        "            total -= value\n",
        "        else:\n",
        "            total += value\n",
        "        prev_value = value\n",
        "\n",
        "    return total\n",
        "\n",
        "\n",
        "def converter():\n",
        "    \"\"\"\n",
        "    Основная функция: спрашивает у пользователя, что он хочет преобразовать,\n",
        "    и вызывает нужную функцию, а если пользователь что-то неправильно вводит,\n",
        "    то запускает цикл с требованием выбрать режим снова\n",
        "    \"\"\"\n",
        "    print(\"Римский конвертер\")\n",
        "    print(\"1. Арабское число → Римское\")\n",
        "    print(\"2. Римское число → Арабское\")\n",
        "\n",
        "    f = True\n",
        "\n",
        "    while f:\n",
        "        choice = input(\"Выберите режим (1 или 2): \").strip()\n",
        "\n",
        "        if choice == \"1\":\n",
        "            num = int(input(\"Введите арабское число (1–3999): \"))\n",
        "            if num == \"\":\n",
        "                print(\"Ошибка: пустая строка\")\n",
        "            else:\n",
        "                result = arabic_to_roman(num)\n",
        "                print(\"Римская запись:\", result)\n",
        "                f = False\n",
        "\n",
        "\n",
        "        elif choice == \"2\":\n",
        "            roman = input(\"Введите римское число (например, XLII): \").strip()\n",
        "            if roman == \"\":\n",
        "                print(\"Ошибка: пустая строка\")\n",
        "            else:\n",
        "                result = roman_to_arabic(roman)\n",
        "                print(\"Арабское число:\", result)\n",
        "                f = False\n",
        "\n",
        "        else:\n",
        "            print(\"Неверный выбор. Пожалуйста, введите 1 или 2\")\n",
        "\n",
        "converter()"
      ],
      "metadata": {
        "colab": {
          "base_uri": "https://localhost:8080/"
        },
        "id": "JffptOoe9tZw",
        "outputId": "f490ca4f-5e31-4032-fd53-0c0275a001f2"
      },
      "execution_count": 7,
      "outputs": [
        {
          "output_type": "stream",
          "name": "stdout",
          "text": [
            "Римский конвертер\n",
            "1. Арабское число → Римское\n",
            "2. Римское число → Арабское\n",
            "Выберите режим (1 или 2): 1\n",
            "Введите арабское число (1–3999): 345\n",
            "Римская запись: CCCXLV\n"
          ]
        }
      ]
    }
  ]
}