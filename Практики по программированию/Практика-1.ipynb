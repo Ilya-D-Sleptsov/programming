{
  "nbformat": 4,
  "nbformat_minor": 0,
  "metadata": {
    "colab": {
      "provenance": [],
      "authorship_tag": "ABX9TyNtop/+d1nv3ktT73ejPJJd",
      "include_colab_link": true
    },
    "kernelspec": {
      "name": "python3",
      "display_name": "Python 3"
    },
    "language_info": {
      "name": "python"
    }
  },
  "cells": [
    {
      "cell_type": "markdown",
      "metadata": {
        "id": "view-in-github",
        "colab_type": "text"
      },
      "source": [
        "<a href=\"https://colab.research.google.com/github/Ilya-D-Sleptsov/programming/blob/main/%D0%9F%D1%80%D0%B0%D0%BA%D1%82%D0%B8%D0%BA%D0%B0_1.ipynb\" target=\"_parent\"><img src=\"https://colab.research.google.com/assets/colab-badge.svg\" alt=\"Open In Colab\"/></a>"
      ]
    },
    {
      "cell_type": "markdown",
      "source": [
        "## Слепцов Илья\n",
        "## Задания практического занятия 1"
      ],
      "metadata": {
        "id": "hXaGt73aR7UY"
      }
    },
    {
      "cell_type": "code",
      "execution_count": 2,
      "metadata": {
        "colab": {
          "base_uri": "https://localhost:8080/"
        },
        "id": "YKsROtRjRrBr",
        "outputId": "39c7f51e-e9f2-475e-857f-ac73ea49383b"
      },
      "outputs": [
        {
          "output_type": "stream",
          "name": "stdout",
          "text": [
            "-15\n",
            "температура в фаренгейтах: 5.00\n",
            "температура в кельвинах: 258.15\n"
          ]
        }
      ],
      "source": [
        "#Температура\n",
        "c=float(input())\n",
        "f=c*(9/5)+32.0\n",
        "k=c+273.15\n",
        "\n",
        "fr=round(f, 2)\n",
        "fr_=round(fr%1, 2)\n",
        "fl=len(str(fr_))\n",
        "if fl==3: fa=str(fr)+'0'\n",
        "else: fa=str(fr)\n",
        "\n",
        "kr=round(k, 2)\n",
        "kr_=round(kr%1, 2)\n",
        "kl=len(str(kr_))\n",
        "if kl==3: ka=str(kr)+'0'\n",
        "else: ka=str(kr)\n",
        "\n",
        "print('температура в фаренгейтах:',fa)\n",
        "print('температура в кельвинах:',ka)"
      ]
    },
    {
      "cell_type": "code",
      "source": [
        "#Анализ целых чисел\n",
        "c=float(input())\n",
        "if c//1==c/1:\n",
        "    if c%2==0: print('чётное')\n",
        "    else: print('нечётное')\n",
        "\n",
        "    if c>0: print('положительное')\n",
        "    elif c<0: print('отрицательное')\n",
        "    else: print('это ноль')\n",
        "\n",
        "    if 10<=c<=50: print('в диапазоне [10, 50]')\n",
        "    else: print('вне диапазона [10, 50]')\n",
        "else:\n",
        "    print('число не целое, но ладно...')\n",
        "    if c>0: print('положительное')\n",
        "    elif c<0: print('отрицательное')\n",
        "    else: print('это ноль')\n",
        "\n",
        "    if 10<=c<=50: print('в диапазоне [10, 50]')\n",
        "    else: print('вне диапазона [10, 50]')"
      ],
      "metadata": {
        "colab": {
          "base_uri": "https://localhost:8080/"
        },
        "id": "aNHJVRMiR7FX",
        "outputId": "ae12d37d-33d7-4bf6-f227-7f3a086f5651"
      },
      "execution_count": 3,
      "outputs": [
        {
          "output_type": "stream",
          "name": "stdout",
          "text": [
            "-7\n",
            "нечётное\n",
            "отрицательное\n",
            "вне диапазона [10, 50]\n"
          ]
        }
      ]
    },
    {
      "cell_type": "code",
      "source": [
        "#Рандомные символы\n",
        "import random\n",
        "lett='ABCDEFGHIJKLMNOPQRSTUVWXYZ'\n",
        "num='0123456789'\n",
        "simb='!@#$%^&*'\n",
        "print(random.choice(lett),random.choice(lett), random.choice(lett), sep='', end='')\n",
        "print(random.choice(num),random.choice(num),random.choice(num), sep='', end='')\n",
        "print(random.choice(simb),random.choice(simb), sep='')"
      ],
      "metadata": {
        "colab": {
          "base_uri": "https://localhost:8080/"
        },
        "id": "xwRgINhJTOyK",
        "outputId": "50e8c05c-3d20-474f-a141-eb8d38f7a4c9"
      },
      "execution_count": 6,
      "outputs": [
        {
          "output_type": "stream",
          "name": "stdout",
          "text": [
            "EQJ491*&\n"
          ]
        }
      ]
    },
    {
      "cell_type": "code",
      "source": [
        "#Три наиболее часто встречающиеся буквы\n",
        "a=str(input().lower())\n",
        "l='abcdefghijklmnopqrstuvwxyz'\n",
        "arr=[0]*len(l)\n",
        "mx1=0; mx2=0; mx3=0\n",
        "b1=''; b2=''; b3=''\n",
        "for k in l:\n",
        "#    print(l.index(k), k)\n",
        "    l_ind=l.index(k)\n",
        "    a_c=a.count(k)\n",
        "    arr[l_ind]=a_c\n",
        "    if a_c>=mx1:\n",
        "        mx3=mx2; mx2=mx1; mx1=a_c\n",
        "        b3=b2; b2=b1; b1=k\n",
        "    elif a_c>=mx2:\n",
        "        mx3=mx2; mx2=a_c\n",
        "        b3=b2; b2=k\n",
        "    elif a_c>=mx3:\n",
        "        mx3=a_c\n",
        "        b3=k\n",
        "#    print(b1,b2,b3, ':', mx1, mx2, mx3)\n",
        "#print(arr)\n",
        "print('три наиболее часто встречающиеся буквы:', b1, b2, b3)"
      ],
      "metadata": {
        "colab": {
          "base_uri": "https://localhost:8080/"
        },
        "id": "_WvKtWmLUK5a",
        "outputId": "8e3b53d7-3288-4e8c-9501-46a111819960"
      },
      "execution_count": 8,
      "outputs": [
        {
          "output_type": "stream",
          "name": "stdout",
          "text": [
            "paiddjdsneo asvaejeknnd deeeud\n",
            "три наиболее часто встречающиеся буквы: e d n\n"
          ]
        }
      ]
    },
    {
      "cell_type": "code",
      "source": [
        "#Решето Эратосфена\n",
        "def eratosf(n):\n",
        "    list_ = []\n",
        "    for i in range(2, n+1):\n",
        "        list_.append(i)\n",
        "    for i in list_:\n",
        "        for k in list_:\n",
        "            if k%i==0 and k!=i:\n",
        "#                print(k, end=\" \")\n",
        "                list_.remove(k)\n",
        "    return list_\n",
        "n=int(input())\n",
        "print(eratosf(n))"
      ],
      "metadata": {
        "colab": {
          "base_uri": "https://localhost:8080/"
        },
        "id": "C2cAEwWNUotD",
        "outputId": "5f56adfc-4047-48a5-e7fa-1a692efa5098"
      },
      "execution_count": 10,
      "outputs": [
        {
          "output_type": "stream",
          "name": "stdout",
          "text": [
            "135\n",
            "[2, 3, 5, 7, 11, 13, 17, 19, 23, 29, 31, 37, 41, 43, 47, 53, 59, 61, 67, 71, 73, 79, 83, 89, 97, 101, 103, 107, 109, 113, 127, 131]\n"
          ]
        }
      ]
    }
  ]
}
