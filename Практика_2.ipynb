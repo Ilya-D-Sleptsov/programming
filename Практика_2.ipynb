{
  "nbformat": 4,
  "nbformat_minor": 0,
  "metadata": {
    "colab": {
      "provenance": [],
      "authorship_tag": "ABX9TyNDxVm0J8KTe8fnSVFJklmx",
      "include_colab_link": true
    },
    "kernelspec": {
      "name": "python3",
      "display_name": "Python 3"
    },
    "language_info": {
      "name": "python"
    }
  },
  "cells": [
    {
      "cell_type": "markdown",
      "metadata": {
        "id": "view-in-github",
        "colab_type": "text"
      },
      "source": [
        "<a href=\"https://colab.research.google.com/github/Ilya-D-Sleptsov/programming/blob/main/%D0%9F%D1%80%D0%B0%D0%BA%D1%82%D0%B8%D0%BA%D0%B0_2.ipynb\" target=\"_parent\"><img src=\"https://colab.research.google.com/assets/colab-badge.svg\" alt=\"Open In Colab\"/></a>"
      ]
    },
    {
      "cell_type": "code",
      "execution_count": 3,
      "metadata": {
        "id": "MYMWtYCyTKIN",
        "colab": {
          "base_uri": "https://localhost:8080/"
        },
        "outputId": "f8292d80-57ff-4d05-d49e-bc6b1aabbf42"
      },
      "outputs": [
        {
          "output_type": "stream",
          "name": "stdout",
          "text": [
            "ertsergwrf\n",
            "4\n",
            "4\n",
            "cprqcpeupd\n"
          ]
        }
      ],
      "source": [
        "# Шифр Цезаря\n",
        "eng_low_letters = 'abcdefghijklmnopqrstuvwxyz'\n",
        "eng_high_letters = eng_low_letters.upper()\n",
        "rus_low_letters = 'абвгдеёжзийклмнопрстуфхцчшщъьыэюя'\n",
        "rus_high_letters = rus_low_letters.upper()\n",
        "numbers = '1234567890'\n",
        "\n",
        "def shifr(n, shift):\n",
        "    \"\"\"\n",
        "     Эта функция проверяет заглавная буква или строчная,\n",
        "    и заменяет её на другую из соответствующего списка eng_high_letters\n",
        "    или eng_low_letters если буква английская, и rus_high_letters или\n",
        "    rus_low_letters если она из русского алфавита,предварительно сдвигаясь\n",
        "    на указанную пользователем величину shift в этих алфавитах влево,\n",
        "    т.к. сделать вправо сложнее. Так же функция заменяет цифры.\n",
        "    \"\"\"\n",
        "    ans=list(n)\n",
        "    for i in range(len(n)):\n",
        "        if n[i] in eng_low_letters:\n",
        "            ans[i] = eng_low_letters[eng_low_letters.index(n[i])-shift]\n",
        "        elif n[i] in eng_high_letters:\n",
        "            ans[i] = eng_high_letters[eng_high_letters.index(n[i])-shift]\n",
        "        elif n[i] in rus_low_letters:\n",
        "            ans[i] = rus_low_letters[rus_low_letters.index(n[i])-shift]\n",
        "        elif n[i] in rus_high_letters:\n",
        "            ans[i] = rus_high_letters[rus_high_letters.index(n[i])-shift]\n",
        "        elif n[i] in numbers:\n",
        "            ans[i] = numbers[numbers.index(n[i])-shift]\n",
        "#        print(ans)\n",
        "    answer = ''.join(ans)\n",
        "    return answer\n",
        "\n",
        "text=str(input())\n",
        "shift=abs(int(input()))\n",
        "print(shifr(text, 2))"
      ]
    },
    {
      "cell_type": "code",
      "source": [
        "# Олимпиада\n",
        "def check_winners(scores, student_score):\n",
        "  \"\"\"\n",
        "  Эта функция принимает стоку из чисел, введённых через пробел,\n",
        "  запятую, или запятую с пробелом, после чего преобразовывает\n",
        "  эту строку в список и проходится по нему в цикле for, вытаскивая\n",
        "  из списка list_scores отдельные числа, которые после записывает\n",
        "  в массив arr_scores. После этого arr_score сортируется по убыванию,\n",
        "  и третье с начала число в получившемся списке сравнивается с\n",
        "  student_score, из чего делается вывод, попал ли Стас в тройку\n",
        "  лучших, или нет.\n",
        "  \"\"\"\n",
        "  list_scores = list(scores)\n",
        "  arr_scores = []\n",
        "  a = ''\n",
        "  for k in list_scores:\n",
        "#    print(k, a, arr_scores)\n",
        "    if k != ',' and k != ' ':\n",
        "      a += k\n",
        "    elif a != '':\n",
        "      arr_scores.append(int(a))\n",
        "      a = ''\n",
        "  if a != '':\n",
        "    arr_scores.append(int(a))\n",
        "  arr_scores.sort(reverse = 'True')\n",
        "\n",
        "  if student_score>arr_scores[2]:\n",
        "    return 'Вы в тройке победителей!'\n",
        "  else:\n",
        "    return 'Вы не попали в тройку победителей.'\n",
        "\n",
        "scores=input()\n",
        "student_score=int(input())\n",
        "\n",
        "print(check_winners(scores, student_score))"
      ],
      "metadata": {
        "colab": {
          "base_uri": "https://localhost:8080/"
        },
        "id": "R3osXftnT_Yq",
        "outputId": "e98178c2-346b-426a-971e-b41912b9889c"
      },
      "execution_count": null,
      "outputs": [
        {
          "output_type": "stream",
          "name": "stdout",
          "text": [
            "1 2 333 4 3 2 2 2 3\n",
            "4\n",
            "Вы в тройке победителей!\n"
          ]
        }
      ]
    },
    {
      "cell_type": "code",
      "source": [
        "# Пирожные и коробки\n",
        "\"\"\"\n",
        "Я не уверен, что правильно понял смысл задачи, потому что\n",
        "на первый взгляд она не особо то и нужна, ведь и так\n",
        "несложно, посмотрев на число, сказать, делится ли оно на\n",
        "5 или на 3. Разве что будут обрабатываться большие числа,\n",
        "а не те, что в примере.\n",
        "\"\"\"\n",
        "f = False\n",
        "print('Введите положительное целое число больше единицы')\n",
        "while f == False:\n",
        "  \"\"\"\n",
        "  while я сделал для того, чтобы если пользователь введёт\n",
        "  отрицательное число, он мог ввести число ещё раз без\n",
        "  необходимости перезапускать код. К сожалению такой же\n",
        "  фичи с числами типа float у меня сделать не получилось,\n",
        "  поэтому если ввести нецелое число, код просто выдаст ошибку(\n",
        "  \"\"\"\n",
        "  def print_pack_report(n):\n",
        "    if k % 3 == 0 and k % 5 == 0:\n",
        "      a = str(k) + ' - расфасуем по 3 или по 5'\n",
        "      return a\n",
        "    elif k % 3 == 0 and k % 5 != 0:\n",
        "      a = a = str(k) + ' - расфасуем по 3'\n",
        "      return a\n",
        "    elif k % 3 != 0 and k % 5 == 0:\n",
        "      a = str(k) + ' - расфасуем по 5'\n",
        "      return a\n",
        "    else:\n",
        "      a = str(k) + ' - не заказываем!'\n",
        "      return a\n",
        "\n",
        "  n = int(input())\n",
        "\n",
        "  if n > 1 and n % 1 == 0:\n",
        "    f = True\n",
        "    for k in range(n, 0, -1):\n",
        "      \"\"\"\n",
        "      я отправляю в функцию print_pack_report каждое число от n до 1,\n",
        "      и получаю для каждого свой return. Я попробовал сделать цикл for\n",
        "      внутри самой функции, но такой вариант работал с огрехами.\n",
        "      \"\"\"\n",
        "      print(print_pack_report(n))\n",
        "  else:\n",
        "    print('! Введите положительное целое число больше единицы')"
      ],
      "metadata": {
        "id": "E81KCJRUgK0Y",
        "colab": {
          "base_uri": "https://localhost:8080/"
        },
        "outputId": "65864ce4-d258-42e9-e93d-d5c50f04c0b3"
      },
      "execution_count": 2,
      "outputs": [
        {
          "output_type": "stream",
          "name": "stdout",
          "text": [
            "Введите положительное целое число больше единицы\n",
            "34\n",
            "34 - не заказываем!\n",
            "33 - расфасуем по 3\n",
            "32 - не заказываем!\n",
            "31 - не заказываем!\n",
            "30 - расфасуем по 3 или по 5\n",
            "29 - не заказываем!\n",
            "28 - не заказываем!\n",
            "27 - расфасуем по 3\n",
            "26 - не заказываем!\n",
            "25 - расфасуем по 5\n",
            "24 - расфасуем по 3\n",
            "23 - не заказываем!\n",
            "22 - не заказываем!\n",
            "21 - расфасуем по 3\n",
            "20 - расфасуем по 5\n",
            "19 - не заказываем!\n",
            "18 - расфасуем по 3\n",
            "17 - не заказываем!\n",
            "16 - не заказываем!\n",
            "15 - расфасуем по 3 или по 5\n",
            "14 - не заказываем!\n",
            "13 - не заказываем!\n",
            "12 - расфасуем по 3\n",
            "11 - не заказываем!\n",
            "10 - расфасуем по 5\n",
            "9 - расфасуем по 3\n",
            "8 - не заказываем!\n",
            "7 - не заказываем!\n",
            "6 - расфасуем по 3\n",
            "5 - расфасуем по 5\n",
            "4 - не заказываем!\n",
            "3 - расфасуем по 3\n",
            "2 - не заказываем!\n",
            "1 - не заказываем!\n"
          ]
        }
      ]
    }
  ]
}