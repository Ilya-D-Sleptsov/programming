{
  "nbformat": 4,
  "nbformat_minor": 0,
  "metadata": {
    "colab": {
      "provenance": [],
      "authorship_tag": "ABX9TyPtuN44LqI1EbagmkWc3+zR",
      "include_colab_link": true
    },
    "kernelspec": {
      "name": "python3",
      "display_name": "Python 3"
    },
    "language_info": {
      "name": "python"
    }
  },
  "cells": [
    {
      "cell_type": "markdown",
      "metadata": {
        "id": "view-in-github",
        "colab_type": "text"
      },
      "source": [
        "<a href=\"https://colab.research.google.com/github/Ilya-D-Sleptsov/programming/blob/main/%D0%9F%D1%80%D0%B0%D0%BA%D1%82%D0%B8%D0%BA%D0%B0_2.ipynb\" target=\"_parent\"><img src=\"https://colab.research.google.com/assets/colab-badge.svg\" alt=\"Open In Colab\"/></a>"
      ]
    },
    {
      "cell_type": "code",
      "execution_count": null,
      "metadata": {
        "id": "MYMWtYCyTKIN"
      },
      "outputs": [],
      "source": [
        "# Шифр Цезаря\n",
        "eng_low_letters='abcdefghijklmnopqrstuvwxyz'\n",
        "eng_high_letters=eng_low_letters.upper()\n",
        "rus_low_letters='абвгдеёжзийклмнопрстуфхцчшщъьыэюя'\n",
        "rus_high_letters=rus_low_letters.upper()\n",
        "numbers='1234567890'\n",
        "\n",
        "def shifr(n, shift):\n",
        "    \"\"\"\n",
        "     Эта функция проверяет заглавная буква или строчная,\n",
        "    и заменяет её на другую из соответствующего списка eng_high_letters\n",
        "    или eng_low_letters если буква английская, и rus_high_letters или\n",
        "    rus_low_letters если она из русского алфавита,предварительно сдвигаясь\n",
        "    на указанную пользователем величину shift в этих алфавитах влево,\n",
        "    т.к. сделать вправо сложнее. Так же функция заменяет цифры.\n",
        "    \"\"\"\n",
        "    ans=list(n)\n",
        "    for i in range(len(n)):\n",
        "        if n[i] in eng_low_letters:\n",
        "            ans[i] = eng_low_letters[eng_low_letters.index(n[i])-shift]\n",
        "        elif n[i] in eng_high_letters:\n",
        "            ans[i] = eng_high_letters[eng_high_letters.index(n[i])-shift]\n",
        "        elif n[i] in rus_low_letters:\n",
        "            ans[i] = rus_low_letters[rus_low_letters.index(n[i])-shift]\n",
        "        elif n[i] in rus_high_letters:\n",
        "            ans[i] = rus_high_letters[rus_high_letters.index(n[i])-shift]\n",
        "        elif n[i] in numbers:\n",
        "            ans[i] = numbers[numbers.index(n[i])-shift]\n",
        "        print(ans)\n",
        "    answer=''.join(ans)\n",
        "    return answer\n",
        "\n",
        "text=str(input())\n",
        "shift=abs(int(input()))\n",
        "print(shift)\n",
        "print(shifr(text, 2))"
      ]
    },
    {
      "cell_type": "code",
      "source": [
        "# Олимпиада\n",
        "def check_winners(scores, student_score):\n",
        "  \"\"\"\n",
        "  Эта функция принимает стоку из чисел, введённых через пробел,\n",
        "  запятую, или запятую с пробелом, после чего преобразовывает\n",
        "  эту строку в список и проходится по нему в цикле for, вытаскивая\n",
        "  из списка list_scores отдельные числа, которые после записывает\n",
        "  в массив arr_scores. После этого arr_score сортируется по убыванию,\n",
        "  и третье с начала число в получившемся списке сравнивается с\n",
        "  student_score, из чего делается вывод, попал ли Стас в тройку\n",
        "  лучших, или нет.\n",
        "  \"\"\"\n",
        "  list_scores=list(scores)\n",
        "  arr_scores=[]\n",
        "  a=''\n",
        "  for k in list_scores:\n",
        "#    print(k, a, arr_scores)\n",
        "    if k!=',' and k!=' ':\n",
        "      a+=k\n",
        "    elif a!='':\n",
        "      arr_scores.append(int(a))\n",
        "      a=''\n",
        "  arr_scores.append(int(a))\n",
        "  arr_scores.sort(reverse='True')\n",
        "\n",
        "  if student_score>arr_scores[2]:\n",
        "    return 'Вы в тройке победителей!'\n",
        "  else:\n",
        "    return 'Вы не попали в тройку победителей.'\n",
        "\n",
        "scores=input()\n",
        "student_score=int(input())\n",
        "\n",
        "print(check_winners(scores, student_score))"
      ],
      "metadata": {
        "colab": {
          "base_uri": "https://localhost:8080/"
        },
        "id": "R3osXftnT_Yq",
        "outputId": "d93c9570-1313-46ac-89f8-7ea2c4b3e34c"
      },
      "execution_count": 32,
      "outputs": [
        {
          "output_type": "stream",
          "name": "stdout",
          "text": [
            "1 2 34 5 32\n",
            "2\n",
            "Вы не попали в тройку победителей.\n"
          ]
        }
      ]
    },
    {
      "cell_type": "code",
      "source": [],
      "metadata": {
        "id": "E81KCJRUgK0Y"
      },
      "execution_count": null,
      "outputs": []
    }
  ]
}